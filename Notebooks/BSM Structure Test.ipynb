{
 "cells": [
  {
   "cell_type": "code",
   "execution_count": 1,
   "id": "bibliographic-settlement",
   "metadata": {},
   "outputs": [
    {
     "name": "stdout",
     "output_type": "stream",
     "text": [
      "Version = 2020.06\n",
      "Current Time = 22.399999499321\n",
      "Current Frame = 2242\n",
      "Current Scene = None\n",
      "Current Scene = BorregasAve\n",
      "Spawn(position=Vector(-50.3400077819824, -1.03600001335144, -9.03001022338867), rotation=Vector(0, 104.823379516602, 0), destinations=[])\n",
      "Spawn(position=Vector(386.800048828125, -7.73000001907349, 106.700073242188), rotation=Vector(0, 191.806182861328, 0), destinations=[])\n"
     ]
    }
   ],
   "source": [
    "import os\n",
    "import lgsvl\n",
    "\n",
    "INTERVAL = 0.1\n",
    "\n",
    "sim = lgsvl.Simulator(os.environ.get(\"SIMULATOR_HOST\", \"127.0.0.1\"), 8181)\n",
    "\n",
    "print(\"Version =\", sim.version)\n",
    "print(\"Current Time =\", sim.current_time)\n",
    "print(\"Current Frame =\", sim.current_frame)\n",
    "\n",
    "print(\"Current Scene = {}\".format(sim.current_scene))\n",
    "\n",
    "# Loads the named map in the connected simulator. The available maps can be set up in web interface\n",
    "if sim.current_scene == \"BorregasAve\":\n",
    "  sim.reset()\n",
    "else:\n",
    "  sim.load(\"BorregasAve\")\n",
    "\n",
    "print(\"Current Scene = {}\".format(sim.current_scene))\n",
    "\n",
    "# This will print out the position and rotation vectors for each of the spawn points in the loaded map\n",
    "spawns = sim.get_spawn()\n",
    "for spawn in sim.get_spawn():\n",
    "  print(spawn)\n",
    "\n",
    "# Get a state from the simulator and spawn a vehicle\n",
    "spawns = sim.get_spawn()\n",
    "\n",
    "state = lgsvl.AgentState()\n",
    "state.transform = spawns[0]\n",
    "\n",
    "sim.load('BorregasAve')\n",
    "\n",
    "forward = lgsvl.utils.transform_to_forward(spawns[0])\n",
    "\n",
    "# Agents can be spawned with a velocity. Default is to spawn with 0 velocity\n",
    "state.velocity = 20 * forward\n",
    "a = sim.add_agent(\"Lincoln2017MKZ (Apollo 5.0)\", lgsvl.AgentType.EGO, state)"
   ]
  },
  {
   "cell_type": "code",
   "execution_count": 2,
   "id": "limited-budget",
   "metadata": {},
   "outputs": [],
   "source": [
    "BSM_PART_1_FIELDS = [\n",
    "    'msgCnt',\n",
    "    'id',\n",
    "    'secMark',\n",
    "    'latPos',  # Done\n",
    "    'longPos', # Done\n",
    "    'elev',    # Done\n",
    "    'accuracy', # ?\n",
    "    'semiMajor', # ?\n",
    "    'semiMinor', # ?\n",
    "    'orientation', # ?\n",
    "    'tranmission', # TODO\n",
    "    'speed', # Done\n",
    "    'heading', # Done\n",
    "    'angle', # Can't find where to access this? Can send new VehicleControl via API but cannot access?\n",
    "    'longAccel', # TODO\n",
    "    'latAccel', # TODO\n",
    "    'vertAccel', # TODO\n",
    "    'yawAccel', # TODO\n",
    "    'wheelBrakes', # ?\n",
    "    'traction', # ?\n",
    "    'abs', # Don't think that is available\n",
    "    'scs', # ^\n",
    "    'brakeBoost', # Some threshold probably needed, or keep track of 'braking' history. Also, same problem as angle?\n",
    "    'auxBrake', # AuxBrake, question on  access due to VehicleControl\n",
    "    'width', # TODO, look at bounding box\n",
    "    'length' # TODO, look at bounding box\n",
    "]\n",
    "\n",
    "class BasicSafetyMessage:\n",
    "    __slots__ = BSM_PART_1_FIELDS\n",
    "    def __init__(self, **kwargs):\n",
    "        # Iterate through each field and set to None\n",
    "        for field in self.__slots__:\n",
    "            setattr(self, field, kwargs.setdefault(field, None))\n",
    "\n",
    "    @classmethod\n",
    "    def to_json(bsm):\n",
    "        return json.dumps(bsm.__dict__)"
   ]
  },
  {
   "cell_type": "code",
   "execution_count": null,
   "id": "successful-investor",
   "metadata": {},
   "outputs": [],
   "source": [
    "def BSM_part_1_gen(agent):\n",
    "    state_prev = agent.state\n",
    "    print(f'{state_prev}')\n",
    "    state_curr = state_prev\n",
    "    print(f'{state_curr}')\n",
    "    while True:\n",
    "        bsm = BasicSafetyMessage()\n",
    "        bsm.speed = state_curr.speed\n",
    "        gps_data = sim.map_to_gps(curr_state.transform)\n",
    "        bsm.latPos = gps_data.latitude\n",
    "        bsm.longPos = gps_data.longitude\n",
    "        bsm.elevation = gps_data.altitude\n",
    "        bsm.heading = gps_data.orientation\n",
    "        yield bsm\n",
    "        state_prev = state_curr\n",
    "        state_curr = agent.state"
   ]
  },
  {
   "cell_type": "code",
   "execution_count": null,
   "id": "social-jumping",
   "metadata": {},
   "outputs": [],
   "source": [
    "bsm_gen = BSM_part_1_gen(a)"
   ]
  },
  {
   "cell_type": "code",
   "execution_count": null,
   "id": "informational-provision",
   "metadata": {},
   "outputs": [],
   "source": [
    "for idx in range(10):\n",
    "    sim.run(INTERVAL)\n",
    "    bsm = next(bsm_gen)\n",
    "    print(f'{idx:03d}: {bsm.speed}')"
   ]
  },
  {
   "cell_type": "code",
   "execution_count": null,
   "id": "foreign-security",
   "metadata": {},
   "outputs": [],
   "source": [
    "a.state.velocity = a.state.velocity - 60 * forward "
   ]
  },
  {
   "cell_type": "code",
   "execution_count": null,
   "id": "inclusive-approval",
   "metadata": {},
   "outputs": [],
   "source": [
    "a.state"
   ]
  },
  {
   "cell_type": "code",
   "execution_count": 3,
   "id": "collaborative-protest",
   "metadata": {},
   "outputs": [],
   "source": [
    "canbus = a.get_sensors()[0]"
   ]
  },
  {
   "cell_type": "code",
   "execution_count": 4,
   "id": "proprietary-august",
   "metadata": {},
   "outputs": [
    {
     "data": {
      "text/plain": [
       "True"
      ]
     },
     "execution_count": 4,
     "metadata": {},
     "output_type": "execute_result"
    }
   ],
   "source": [
    "canbus.enabled"
   ]
  },
  {
   "cell_type": "code",
   "execution_count": 5,
   "id": "formed-danger",
   "metadata": {},
   "outputs": [
    {
     "data": {
      "text/plain": [
       "Transform(position=Vector(0, 0, 0), rotation=Vector(0, 0, 0))"
      ]
     },
     "execution_count": 5,
     "metadata": {},
     "output_type": "execute_result"
    }
   ],
   "source": [
    "canbus.transform"
   ]
  },
  {
   "cell_type": "code",
   "execution_count": null,
   "id": "imperial-amino",
   "metadata": {},
   "outputs": [],
   "source": [
    "sim.map_to_gps(a.state.transform)"
   ]
  }
 ],
 "metadata": {
  "kernelspec": {
   "display_name": "Python 3",
   "language": "python",
   "name": "python3"
  },
  "language_info": {
   "codemirror_mode": {
    "name": "ipython",
    "version": 3
   },
   "file_extension": ".py",
   "mimetype": "text/x-python",
   "name": "python",
   "nbconvert_exporter": "python",
   "pygments_lexer": "ipython3",
   "version": "3.7.9"
  },
  "varInspector": {
   "cols": {
    "lenName": 16,
    "lenType": 16,
    "lenVar": 40
   },
   "kernels_config": {
    "python": {
     "delete_cmd_postfix": "",
     "delete_cmd_prefix": "del ",
     "library": "var_list.py",
     "varRefreshCmd": "print(var_dic_list())"
    },
    "r": {
     "delete_cmd_postfix": ") ",
     "delete_cmd_prefix": "rm(",
     "library": "var_list.r",
     "varRefreshCmd": "cat(var_dic_list()) "
    }
   },
   "types_to_exclude": [
    "module",
    "function",
    "builtin_function_or_method",
    "instance",
    "_Feature"
   ],
   "window_display": false
  }
 },
 "nbformat": 4,
 "nbformat_minor": 5
}
