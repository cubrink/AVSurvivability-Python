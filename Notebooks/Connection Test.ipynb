{
 "cells": [
  {
   "cell_type": "code",
   "execution_count": 1,
   "id": "proper-spyware",
   "metadata": {},
   "outputs": [],
   "source": [
    "import os\n",
    "import lgsvl\n",
    "\n",
    "INTERVAL = 1\n",
    "\n",
    "sim = lgsvl.Simulator(os.environ.get(\"SIMULATOR_HOST\", \"127.0.0.1\"), 8181)\n",
    "\n",
    "print(\"Version =\", sim.version)\n",
    "print(\"Current Time =\", sim.current_time)\n",
    "print(\"Current Frame =\", sim.current_frame)\n",
    "\n",
    "print(\"Current Scene = {}\".format(sim.current_scene))\n",
    "\n",
    "# Loads the named map in the connected simulator. The available maps can be set up in web interface\n",
    "if sim.current_scene == \"BorregasAve\":\n",
    "  sim.reset()\n",
    "else:\n",
    "  sim.load(\"BorregasAve\")\n",
    "\n",
    "print(\"Current Scene = {}\".format(sim.current_scene))\n",
    "\n",
    "# This will print out the position and rotation vectors for each of the spawn points in the loaded map\n",
    "spawns = sim.get_spawn()\n",
    "for spawn in sim.get_spawn():\n",
    "  print(spawn)\n",
    "\n",
    "# Get a state from the simulator and spawn a vehicle\n",
    "spawns = sim.get_spawn()\n",
    "\n",
    "state = lgsvl.AgentState()\n",
    "state.transform = spawns[0]\n",
    "\n",
    "sim.load('BorregasAve')\n",
    "\n",
    "forward = lgsvl.utils.transform_to_forward(spawns[0])\n",
    "\n",
    "# Agents can be spawned with a velocity. Default is to spawn with 0 velocity\n",
    "state.velocity = 20 * forward\n",
    "a = sim.add_agent(\"Lincoln2017MKZ (Apollo 5.0)\", lgsvl.AgentType.EGO, state)"
   ]
  },
  {
   "cell_type": "code",
   "execution_count": 20,
   "id": "rational-subsection",
   "metadata": {},
   "outputs": [],
   "source": [
    "sim.run(INTERVAL)"
   ]
  },
  {
   "cell_type": "code",
   "execution_count": 19,
   "id": "private-pound",
   "metadata": {},
   "outputs": [],
   "source": [
    "a.state = state"
   ]
  },
  {
   "cell_type": "code",
   "execution_count": null,
   "id": "proper-queue",
   "metadata": {},
   "outputs": [],
   "source": [
    "# for i in range(5):\n",
    "#     a.state = state\n",
    "#     sim.run(INTERVAL)"
   ]
  }
 ],
 "metadata": {
  "kernelspec": {
   "display_name": "Python 3",
   "language": "python",
   "name": "python3"
  },
  "language_info": {
   "codemirror_mode": {
    "name": "ipython",
    "version": 3
   },
   "file_extension": ".py",
   "mimetype": "text/x-python",
   "name": "python",
   "nbconvert_exporter": "python",
   "pygments_lexer": "ipython3",
   "version": "3.9.1"
  },
  "varInspector": {
   "cols": {
    "lenName": 16,
    "lenType": 16,
    "lenVar": 40
   },
   "kernels_config": {
    "python": {
     "delete_cmd_postfix": "",
     "delete_cmd_prefix": "del ",
     "library": "var_list.py",
     "varRefreshCmd": "print(var_dic_list())"
    },
    "r": {
     "delete_cmd_postfix": ") ",
     "delete_cmd_prefix": "rm(",
     "library": "var_list.r",
     "varRefreshCmd": "cat(var_dic_list()) "
    }
   },
   "types_to_exclude": [
    "module",
    "function",
    "builtin_function_or_method",
    "instance",
    "_Feature"
   ],
   "window_display": false
  }
 },
 "nbformat": 4,
 "nbformat_minor": 5
}
