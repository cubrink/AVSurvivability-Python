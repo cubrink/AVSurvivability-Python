{
 "cells": [
  {
   "cell_type": "code",
   "execution_count": null,
   "id": "accurate-system",
   "metadata": {},
   "outputs": [],
   "source": [
    "import os\n",
    "import lgsvl"
   ]
  },
  {
   "cell_type": "code",
   "execution_count": null,
   "metadata": {},
   "outputs": [],
   "source": [
    "\"\"\"\n",
    "Basic simulation. This will start a sim and make a car drive forward. Either copy this simulation to make more advanced tests or start this simulation and use the interpretter to perform tests in real-time.\n",
    "\"\"\""
   ]
  },
  {
   "cell_type": "code",
   "execution_count": null,
   "id": "controlling-mineral",
   "metadata": {},
   "outputs": [],
   "source": [
    "INTERVAL = 1\n",
    "\n",
    "sim = lgsvl.Simulator(os.environ.get(\"SIMULATOR_HOST\", \"127.0.0.1\"), 8181)\n",
    "\n",
    "print(\"Version =\", sim.version)\n",
    "print(\"Current Time =\", sim.current_time)\n",
    "print(\"Current Frame =\", sim.current_frame)\n",
    "\n",
    "print(\"Current Scene = {}\".format(sim.current_scene))\n",
    "\n",
    "# Loads the named map in the connected simulator. The available maps can be set up in web interface\n",
    "if sim.current_scene == \"BorregasAve\":\n",
    "  sim.reset()\n",
    "else:\n",
    "  sim.load(\"BorregasAve\")\n",
    "\n",
    "print(\"Current Scene = {}\".format(sim.current_scene))\n",
    "\n",
    "# This will print out the position and rotation vectors for each of the spawn points in the loaded map\n",
    "spawns = sim.get_spawn()\n",
    "for spawn in sim.get_spawn():\n",
    "  print(spawn)\n",
    "\n",
    "# Get a state from the simulator and spawn a vehicle\n",
    "spawns = sim.get_spawn()\n",
    "\n",
    "state = lgsvl.AgentState()\n",
    "state.transform = spawns[0]\n",
    "\n",
    "sim.load('BorregasAve')\n",
    "\n",
    "forward = lgsvl.utils.transform_to_forward(spawns[0])\n",
    "\n",
    "# Agents can be spawned with a velocity. Default is to spawn with 0 velocity\n",
    "state.velocity = 20 * forward\n",
    "a = sim.add_agent(\"Lincoln2017MKZ (Apollo 5.0)\", lgsvl.AgentType.EGO, state)"
   ]
  }
 ],
 "metadata": {
  "kernelspec": {
   "display_name": "Python 3",
   "language": "python",
   "name": "python3"
  },
  "language_info": {
   "codemirror_mode": {
    "name": "ipython",
    "version": 3
   },
   "file_extension": ".py",
   "mimetype": "text/x-python",
   "name": "python",
   "nbconvert_exporter": "python",
   "pygments_lexer": "ipython3",
   "version": "3.8.5"
  }
 },
 "nbformat": 4,
 "nbformat_minor": 5
}